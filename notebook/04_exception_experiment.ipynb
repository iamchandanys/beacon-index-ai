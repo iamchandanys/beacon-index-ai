{
 "cells": [
  {
   "cell_type": "code",
   "execution_count": null,
   "id": "be42b8c7",
   "metadata": {},
   "outputs": [],
   "source": [
    "import sys\n",
    "import traceback"
   ]
  },
  {
   "cell_type": "code",
   "execution_count": null,
   "id": "4036e9a5",
   "metadata": {},
   "outputs": [],
   "source": [
    "class CustomException(Exception):\n",
    "    def __init__(self, error_message: str, error_details: sys):\n",
    "        _,_,exc_traceback = error_details.exc_info()\n",
    "        self.file_name = exc_traceback.tb_frame.f_code.co_filename\n",
    "        self.line_number = exc_traceback.tb_lineno\n",
    "        self.eror_message = error_message\n",
    "        self.traceback_str = ''.join(traceback.format_exception(*error_details.exc_info()))\n",
    "\n",
    "    def __str__(self):\n",
    "        return (\n",
    "            f\"\\n--- Custom Exception ---\\n\"\n",
    "            f\"File      : {self.file_name}\\n\"\n",
    "            f\"Line      : {self.line_number}\\n\"\n",
    "            f\"Message   : {self.eror_message}\\n\"\n",
    "            f\"Traceback :\\n{self.traceback_str}\"\n",
    "        )"
   ]
  },
  {
   "cell_type": "code",
   "execution_count": null,
   "id": "03bc7604",
   "metadata": {},
   "outputs": [],
   "source": [
    "if __name__ == \"__main__\":\n",
    "    try:\n",
    "        # Simulate an error\n",
    "        1 / 0\n",
    "    except Exception as e:\n",
    "        custom_exception = CustomException(str(e), sys)\n",
    "        raise custom_exception"
   ]
  }
 ],
 "metadata": {
  "kernelspec": {
   "display_name": "venv",
   "language": "python",
   "name": "python3"
  },
  "language_info": {
   "codemirror_mode": {
    "name": "ipython",
    "version": 3
   },
   "file_extension": ".py",
   "mimetype": "text/x-python",
   "name": "python",
   "nbconvert_exporter": "python",
   "pygments_lexer": "ipython3",
   "version": "3.12.7"
  }
 },
 "nbformat": 4,
 "nbformat_minor": 5
}
