{
 "cells": [
  {
   "cell_type": "code",
   "execution_count": 1,
   "id": "e4a9498a",
   "metadata": {},
   "outputs": [],
   "source": [
    "import os\n",
    "import logging\n",
    "from datetime import datetime"
   ]
  },
  {
   "cell_type": "code",
   "execution_count": 3,
   "id": "ceabb857",
   "metadata": {},
   "outputs": [],
   "source": [
    "# Define the path for the 'logs' directory in the current working directory\n",
    "logs_dir = os.path.join(os.getcwd(), \"logs\")  \n",
    "\n",
    "# Ensure the 'logs' directory exists; create it if it doesn't\n",
    "os.makedirs(logs_dir, exist_ok=True)  \n",
    "\n",
    "# Generate a log filename using the current timestamp for uniqueness\n",
    "LOG_FILE = f\"{datetime.now().strftime('%m_%d_%Y_%H_%M_%S')}.log\"\n",
    "\n",
    "# Construct the full path to the log file within the 'logs' directory\n",
    "LOG_FILE_PATH = os.path.join(logs_dir, LOG_FILE)\n",
    "\n",
    "# Configure the logging system to write logs to the specified file.\n",
    "# The log format includes timestamp, log level, logger name, line number, and the log message.\n",
    "# The logging level is set to DEBUG to capture all levels of log messages.\n",
    "logging.basicConfig(\n",
    "    filename=LOG_FILE_PATH,\n",
    "    format=\"[ %(asctime)s ] %(levelname)s %(name)s (line:%(lineno)d) - %(message)s\",\n",
    "    level=logging.DEBUG,  # Available levels: DEBUG, INFO, WARNING, ERROR, CRITICAL\n",
    ")\n",
    "\n",
    "# Create a logger instance with the file name \"DocumentPortal\".\n",
    "logger=logging.getLogger(os.path.basename(\"DocumentPortal\"))\n",
    "\n",
    "logger.info(\"Testing the logger setup with an info message.\")"
   ]
  }
 ],
 "metadata": {
  "kernelspec": {
   "display_name": "venv",
   "language": "python",
   "name": "python3"
  },
  "language_info": {
   "codemirror_mode": {
    "name": "ipython",
    "version": 3
   },
   "file_extension": ".py",
   "mimetype": "text/x-python",
   "name": "python",
   "nbconvert_exporter": "python",
   "pygments_lexer": "ipython3",
   "version": "3.12.7"
  }
 },
 "nbformat": 4,
 "nbformat_minor": 5
}
