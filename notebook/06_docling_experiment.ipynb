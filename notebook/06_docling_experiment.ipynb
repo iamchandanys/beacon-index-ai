{
 "cells": [
  {
   "cell_type": "code",
   "execution_count": null,
   "id": "1d9a3262",
   "metadata": {},
   "outputs": [],
   "source": [
    "# References\n",
    "\n",
    "# https://docling-project.github.io/docling/examples/minimal/\n",
    "# https://docling-project.github.io/docling/reference/docling_document/#docling_core.types.doc\n",
    "# https://github.com/casedone/rag-multimodal"
   ]
  },
  {
   "cell_type": "code",
   "execution_count": null,
   "id": "ed51f9f3",
   "metadata": {},
   "outputs": [],
   "source": [
    "# Required Libraries\n",
    "\n",
    "# pip install docling\n",
    "# pip install tokencost"
   ]
  },
  {
   "cell_type": "code",
   "execution_count": null,
   "id": "9fbea778",
   "metadata": {},
   "outputs": [],
   "source": [
    "import os\n",
    "import time\n",
    "import pandas as pd\n",
    "\n",
    "from docling.document_converter import DocumentConverter\n",
    "from docling.datamodel.base_models import InputFormat\n",
    "from docling.datamodel.pipeline_options import (PdfPipelineOptions, PictureDescriptionApiOptions)\n",
    "from docling.document_converter import DocumentConverter, PdfFormatOption\n",
    "from docling_core.types.doc import ImageRefMode\n",
    "from langchain.schema import Document\n",
    "from langchain_openai import AzureOpenAIEmbeddings\n",
    "from langchain.vectorstores import FAISS\n",
    "from dotenv import load_dotenv\n",
    "\n",
    "load_dotenv()"
   ]
  },
  {
   "cell_type": "code",
   "execution_count": null,
   "id": "fb647c98",
   "metadata": {},
   "outputs": [],
   "source": [
    "# source = \"https://arxiv.org/pdf/2408.09869\"\n",
    "source = \"https://emcdevstoragev2.blob.core.windows.net/public/efba9f0b-70cc-4dab-b6b7-5812a22c0c37.pdf\""
   ]
  },
  {
   "cell_type": "code",
   "execution_count": null,
   "id": "b7322626",
   "metadata": {},
   "outputs": [],
   "source": [
    "picture_desc_api_option = PictureDescriptionApiOptions(\n",
    "    url=os.getenv(\"AZURE_OPENAI_GPT_4O_FULL_ENDPOINT\"),\n",
    "    prompt=\"Describe this image in sentences in a single paragraph.\",\n",
    "    params={\n",
    "        \"model\":\"gpt-4o\",\n",
    "        \"max_tokens\": 200,\n",
    "        \"temperature\": 0.5\n",
    "    },\n",
    "    headers={\n",
    "        \"api-key\": os.getenv(\"AZURE_OPENAI_API_KEY\"),\n",
    "    },\n",
    "    timeout=90,\n",
    ")"
   ]
  },
  {
   "cell_type": "code",
   "execution_count": null,
   "id": "5cb21c04",
   "metadata": {},
   "outputs": [],
   "source": [
    "# Docling Parse without EasyOCR\n",
    "\n",
    "# do_ocr is a configuration option in Docling's PDF processing pipeline. \n",
    "# When do_ocr is set to True, Docling applies Optical Character Recognition (OCR) to extract text from images or scanned pages in PDF files. \n",
    "# If set to False, it will only try to extract selectable or digital text without using OCR. \n",
    "# This is useful for handling scanned or image-based documents where text can't be directly extracted.\n",
    "\n",
    "pipeline_options = PdfPipelineOptions()\n",
    "pipeline_options.do_ocr = False\n",
    "pipeline_options.do_table_structure = True\n",
    "pipeline_options.table_structure_options.do_cell_matching = True\n",
    "pipeline_options.generate_picture_images = True\n",
    "pipeline_options.do_picture_description = True\n",
    "pipeline_options.picture_description_options = picture_desc_api_option\n",
    "pipeline_options.enable_remote_services = True\n",
    "\n",
    "doc_converter = DocumentConverter(\n",
    "    format_options={\n",
    "        InputFormat.PDF: PdfFormatOption(pipeline_options=pipeline_options)\n",
    "    }\n",
    ")"
   ]
  },
  {
   "cell_type": "code",
   "execution_count": null,
   "id": "f282c0e1",
   "metadata": {},
   "outputs": [],
   "source": [
    "start_time = time.time()\n",
    "conv_result = doc_converter.convert(source)\n",
    "end_time = time.time() - start_time\n",
    "\n",
    "print(f\"Document converted in {end_time:.2f} seconds.\")"
   ]
  },
  {
   "cell_type": "code",
   "execution_count": null,
   "id": "e52d3dbf",
   "metadata": {},
   "outputs": [],
   "source": [
    "# Markdown export\n",
    "\n",
    "mark_down = conv_result.document.export_to_markdown(\n",
    "    page_break_placeholder=\"--- PAGE BREAK ---\", \n",
    "    image_mode=ImageRefMode.PLACEHOLDER\n",
    ")"
   ]
  },
  {
   "cell_type": "code",
   "execution_count": null,
   "id": "a2efe189",
   "metadata": {},
   "outputs": [],
   "source": [
    "page_split = mark_down.split(\"--- PAGE BREAK ---\")\n",
    "    \n",
    "documents: list[Document] = []\n",
    "\n",
    "for i, page in enumerate(page_split):\n",
    "    doc = Document(\n",
    "        page_content=page.strip(),\n",
    "        metadata={\"page\": i + 1}\n",
    "    )\n",
    "    documents.append(doc)"
   ]
  },
  {
   "cell_type": "code",
   "execution_count": null,
   "id": "cee4b296",
   "metadata": {},
   "outputs": [],
   "source": [
    "# MKL workaround for duplicate library error\n",
    "os.environ[\"KMP_DUPLICATE_LIB_OK\"] = \"TRUE\"\n",
    "\n",
    "azOpenAIembeddings = AzureOpenAIEmbeddings(\n",
    "    model=\"text-embedding-ada-002\",\n",
    "    api_version=\"2023-05-15\",\n",
    ")\n",
    "\n",
    "vectorstore = FAISS.from_documents(\n",
    "    documents=documents,\n",
    "    embedding=azOpenAIembeddings\n",
    ")"
   ]
  },
  {
   "cell_type": "code",
   "execution_count": null,
   "id": "11f136a2",
   "metadata": {},
   "outputs": [],
   "source": [
    "relevant_docs = vectorstore.similarity_search_with_relevance_scores(\"what securities azure provides?\", k=10)\n",
    "\n",
    "for i, (doc, score) in enumerate(relevant_docs):\n",
    "    print(f\"Relevant Document {doc.metadata['page']} (Score: {score}):\\n\\n{doc.page_content}\\n\")\n",
    "    print('--- END OF RELEVANT DOCUMENT ---')"
   ]
  },
  {
   "cell_type": "markdown",
   "id": "56867e3a",
   "metadata": {},
   "source": [
    "### Docling table export POC"
   ]
  },
  {
   "cell_type": "code",
   "execution_count": null,
   "id": "d75362f5",
   "metadata": {},
   "outputs": [],
   "source": [
    "# Table export\n",
    "\n",
    "for table_ix, table in enumerate(conv_result.document.tables):\n",
    "    table_df: pd.DataFrame = table.export_to_dataframe()\n",
    "    print(f\"## Table {table_ix}\")\n",
    "    print(f\"{table_df.to_markdown()}\")"
   ]
  },
  {
   "cell_type": "markdown",
   "id": "8e315287",
   "metadata": {},
   "source": [
    "### Get total token & cost POC"
   ]
  },
  {
   "cell_type": "code",
   "execution_count": null,
   "id": "b77f4be1",
   "metadata": {},
   "outputs": [],
   "source": [
    "from tokencost import calculate_prompt_cost, count_string_tokens\n",
    "\n",
    "def get_token_cost(text: str, model_name: str) -> dict:\n",
    "    prompt = text\n",
    "    model_name = model_name\n",
    "    return {\n",
    "        \"tokens\": count_string_tokens(prompt, model=model_name),\n",
    "        \"cost\": calculate_prompt_cost(prompt, model=model_name)\n",
    "    }"
   ]
  }
 ],
 "metadata": {
  "kernelspec": {
   "display_name": "venv",
   "language": "python",
   "name": "python3"
  },
  "language_info": {
   "codemirror_mode": {
    "name": "ipython",
    "version": 3
   },
   "file_extension": ".py",
   "mimetype": "text/x-python",
   "name": "python",
   "nbconvert_exporter": "python",
   "pygments_lexer": "ipython3",
   "version": "3.12.7"
  }
 },
 "nbformat": 4,
 "nbformat_minor": 5
}
